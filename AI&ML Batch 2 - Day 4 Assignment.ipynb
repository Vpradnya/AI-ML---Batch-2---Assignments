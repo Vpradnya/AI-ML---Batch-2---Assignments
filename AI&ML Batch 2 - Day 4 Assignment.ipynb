{
 "cells": [
  {
   "cell_type": "markdown",
   "metadata": {},
   "source": [
    "# Day 4 Assignment"
   ]
  },
  {
   "cell_type": "markdown",
   "metadata": {},
   "source": [
    "# 1. Research on whether addition, subtraction, multiplication, division, floor division, and modulo operations be performed on complex numbers. Based on your study, implement a Python program to demonstrate these operations."
   ]
  },
  {
   "cell_type": "code",
   "execution_count": 5,
   "metadata": {},
   "outputs": [
    {
     "name": "stdout",
     "output_type": "stream",
     "text": [
      "Addition of two complex numbers :  (7-4j)\n",
      "Subtraction of two complex numbers :  (1+10j)\n",
      "Multiplication of two complex numbers :  (33-19j)\n",
      "Division of two complex numbers :  (-0.15517241379310348+0.6379310344827587j)\n"
     ]
    }
   ],
   "source": [
    "# Arithmetic Operations on Complex Numbers\n",
    "num1 = (4+3j)\n",
    "num2 = (3-7j)\n",
    "print(\"Addition of two complex numbers : \",num1+num2)\n",
    "print(\"Subtraction of two complex numbers : \",num1-num2)\n",
    "print(\"Multiplication of two complex numbers : \",num1*num2)\n",
    "print(\"Division of two complex numbers : \",num1/num2)\n",
    "\n",
    "# Modulo and floor division cannot be done on a complex number . It gives below TypeError\n",
    "# For modulo division : TypeError: can't mod complex numbers.\n",
    "# For floor division : TypeError: can't take floor of complex number."
   ]
  },
  {
   "cell_type": "markdown",
   "metadata": {},
   "source": [
    "# 2. Research on range() functions and its parameters. Create a markdown cell and write in your own words. what you understand about it. Implement a small program of your choice on the same."
   ]
  },
  {
   "cell_type": "markdown",
   "metadata": {},
   "source": [
    "## range() Function : \n",
    "### o range()  function is used to provide the sequence of the numbers in the given particular range.\n",
    "### - It accepts the integer value.\n",
    "### - range() function is used with iterable.\n",
    "### - It can have a below parameter :\n",
    "#### 1. (range(number)) :  It bydefaults start from 0 till the range provided in the paramter.\n",
    "#### 2. (range(start num, Stop num)) :  It start from the start number parameter till the stop paramter.\n",
    "#### 3. (range(start num, Stop num, step size)) :  It start from the start number parameter till the stop paramter.\tStep size means the number of jumps for the next number. It defaults to 1."
   ]
  },
  {
   "cell_type": "code",
   "execution_count": 8,
   "metadata": {},
   "outputs": [
    {
     "name": "stdout",
     "output_type": "stream",
     "text": [
      "0\n",
      "1\n",
      "2\n",
      "3\n",
      "4\n",
      "5\n",
      "6\n",
      "7\n"
     ]
    }
   ],
   "source": [
    "# Program of range() function with single parameter\n",
    "\n",
    "for i in (range (8)):\n",
    "    print(i)"
   ]
  },
  {
   "cell_type": "code",
   "execution_count": 9,
   "metadata": {},
   "outputs": [
    {
     "name": "stdout",
     "output_type": "stream",
     "text": [
      "2\n",
      "3\n",
      "4\n",
      "5\n",
      "6\n",
      "7\n"
     ]
    }
   ],
   "source": [
    "# Program of range(start, stop) function with two parameter\n",
    "\n",
    "for i in (range (2,8)):\n",
    "    print(i)"
   ]
  },
  {
   "cell_type": "code",
   "execution_count": 11,
   "metadata": {},
   "outputs": [
    {
     "name": "stdout",
     "output_type": "stream",
     "text": [
      "2\n",
      "4\n",
      "6\n",
      "8\n",
      "10\n",
      "12\n",
      "14\n"
     ]
    }
   ],
   "source": [
    "# Program of range(start, stop, step) function with two parameter\n",
    "\n",
    "for i in (range (2,15,2)):\n",
    "    print(i)"
   ]
  },
  {
   "cell_type": "markdown",
   "metadata": {},
   "source": [
    "# 3. Consider two numbers. Perform their subtraction and if the result of subtraction is greater than 25, print their multiplication result else print their division result."
   ]
  },
  {
   "cell_type": "code",
   "execution_count": 12,
   "metadata": {},
   "outputs": [
    {
     "name": "stdout",
     "output_type": "stream",
     "text": [
      "Multiplication of Numbers is 1000\n"
     ]
    }
   ],
   "source": [
    "No1 = 50\n",
    "No2 = 20\n",
    "sub= No1 - No2\n",
    "if(sub > 25):\n",
    "    print(\"Multiplication of Numbers is\", No1*No2 )\n",
    "else :\n",
    "    print(\"Multiplication of Numbers is\", No1/No2 )"
   ]
  },
  {
   "cell_type": "code",
   "execution_count": 16,
   "metadata": {},
   "outputs": [
    {
     "name": "stdout",
     "output_type": "stream",
     "text": [
      "Division of Numbers is 1.5\n"
     ]
    }
   ],
   "source": [
    "No1 = 60\n",
    "No2 = 40\n",
    "sub= No1 - No2\n",
    "if(sub > 25):\n",
    "    print(\"Multiplication of Numbers is\", No1*No2 )\n",
    "else :\n",
    "    print(\"Division of Numbers is\", No1/No2 )"
   ]
  },
  {
   "cell_type": "markdown",
   "metadata": {},
   "source": [
    "# 4. Consider a list of 10 elements of integer values. If the number in the list is divisible by 2, print the result as \"square of that number minus 2\"."
   ]
  },
  {
   "cell_type": "code",
   "execution_count": 18,
   "metadata": {},
   "outputs": [
    {
     "name": "stdout",
     "output_type": "stream",
     "text": [
      "2\n",
      "14\n",
      "62\n",
      "98\n",
      "194\n"
     ]
    }
   ],
   "source": [
    "l = [2,4,5,13,8,9,10,14,7,3]\n",
    "\n",
    "for i in l:\n",
    "    if(i%2==0):\n",
    "        print (i**2- 2)"
   ]
  },
  {
   "cell_type": "markdown",
   "metadata": {},
   "source": [
    "# 5. Consider a list of 10 elements. Print all the elements in the list which are greater than 7 when that number is divided 2."
   ]
  },
  {
   "cell_type": "code",
   "execution_count": 21,
   "metadata": {},
   "outputs": [
    {
     "name": "stdout",
     "output_type": "stream",
     "text": [
      "18\n",
      "45\n",
      "24\n",
      "36\n"
     ]
    }
   ],
   "source": [
    "elements = [18,45,5,13,8,24,10,14,36,3]\n",
    "\n",
    "for i in elements :\n",
    "    if((i/2) >7):\n",
    "        print (i)"
   ]
  },
  {
   "cell_type": "code",
   "execution_count": null,
   "metadata": {},
   "outputs": [],
   "source": []
  }
 ],
 "metadata": {
  "kernelspec": {
   "display_name": "Python 3",
   "language": "python",
   "name": "python3"
  },
  "language_info": {
   "codemirror_mode": {
    "name": "ipython",
    "version": 3
   },
   "file_extension": ".py",
   "mimetype": "text/x-python",
   "name": "python",
   "nbconvert_exporter": "python",
   "pygments_lexer": "ipython3",
   "version": "3.8.3"
  }
 },
 "nbformat": 4,
 "nbformat_minor": 4
}
