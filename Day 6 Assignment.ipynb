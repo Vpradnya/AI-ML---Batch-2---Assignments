{
 "cells": [
  {
   "cell_type": "markdown",
   "metadata": {},
   "source": [
    "# <blockquote><U>Day 6 Assignment</u></blockquote>\n"
   ]
  },
  {
   "cell_type": "markdown",
   "metadata": {},
   "source": [
    "# Program 1  - To print the company name of a given email address.\n"
   ]
  },
  {
   "cell_type": "code",
   "execution_count": 1,
   "metadata": {},
   "outputs": [
    {
     "name": "stdout",
     "output_type": "stream",
     "text": [
      "Enter your Email-ID :abc@LetsUpgrade.com\n",
      "Company Name is : LetsUpgrade\n"
     ]
    }
   ],
   "source": [
    "email = input(\"Enter your Email-ID :\")\n",
    "start= email.find(\"@\")\n",
    "end = email.find(\".\")\n",
    "print(\"Company Name is :\",email[start+1:end])"
   ]
  },
  {
   "cell_type": "markdown",
   "metadata": {},
   "source": [
    "# Program 2 - To prints the words in a comma-separated sequence after sorting                         them alphabetically\n"
   ]
  },
  {
   "cell_type": "code",
   "execution_count": 2,
   "metadata": {},
   "outputs": [
    {
     "name": "stdout",
     "output_type": "stream",
     "text": [
      "Enter the words with comma seperated :without,hello,bag,world\n",
      "Words sorted in alphabetical order: ['bag', 'hello', 'without', 'world']\n"
     ]
    }
   ],
   "source": [
    "l=list(input(\"Enter the words with comma seperated :\").split(\",\"))\n",
    "l.sort()\n",
    "print(\"Words sorted in alphabetical order:\",l)"
   ]
  },
  {
   "cell_type": "markdown",
   "metadata": {},
   "source": [
    "# Program 4 - To find the missing number"
   ]
  },
  {
   "cell_type": "code",
   "execution_count": 1,
   "metadata": {},
   "outputs": [
    {
     "name": "stdout",
     "output_type": "stream",
     "text": [
      "Missing Number is :  5\n"
     ]
    }
   ],
   "source": [
    "numbers = [1, 2, 4, 6, 3, 7, 8]\n",
    "numbers.sort()\n",
    "for i in range(1,numbers[-1]+1):\n",
    "    if(i not in numbers):\n",
    "        print(\"Missing Number is : \", i)"
   ]
  },
  {
   "cell_type": "markdown",
   "metadata": {},
   "source": [
    "# Program 5 -  To print the list after removing all duplicate values with original order reserved.\n"
   ]
  },
  {
   "cell_type": "code",
   "execution_count": 3,
   "metadata": {},
   "outputs": [
    {
     "name": "stdout",
     "output_type": "stream",
     "text": [
      "Enter the numbers: 12 24 35 24 88 120 155 88 120 155\n",
      "OutPut :  ['12', '24', '35', '88', '120', '155']\n"
     ]
    }
   ],
   "source": [
    "numbers = list(input(\"Enter the numbers: \").split(\" \"))\n",
    "numberList=[]\n",
    "for i in numbers:\n",
    "    if(i not in numberList):\n",
    "        numberList.append(i)\n",
    "print(\"OutPut : \",numberList)"
   ]
  },
  {
   "cell_type": "markdown",
   "metadata": {},
   "source": [
    "# Question 3"
   ]
  },
  {
   "cell_type": "markdown",
   "metadata": {},
   "source": [
    "# <u>SET</u>"
   ]
  },
  {
   "cell_type": "code",
   "execution_count": 1,
   "metadata": {},
   "outputs": [],
   "source": [
    "# A set is an unordered collection of items.  \n",
    "# Every set element is unique (no duplicates).\n",
    "# We can add or remove items from set.\n",
    "# We cannot access items in a set by referring to an index or a key.\n",
    "# Sets can also be used to perform mathematical set operations like union, intersection, symmetric difference, etc.\n",
    "# A set is created by placing all the items (elements) inside curly braces {},\n",
    "# separated by comma, or by using the built-in set() function.\n",
    "# It can have any number of items and they may be of different types (integer, float, tuple, string etc.).\n",
    "# But a set cannot have mutable elements like lists, sets or dictionaries as its elements.\n"
   ]
  },
  {
   "cell_type": "code",
   "execution_count": 2,
   "metadata": {},
   "outputs": [
    {
     "name": "stdout",
     "output_type": "stream",
     "text": [
      "{'Black', 'Red', 'White'}\n"
     ]
    }
   ],
   "source": [
    "# Create set\n",
    "Colorsset = {\"Red\", \"Black\", \"White\"}\n",
    "print(Colorsset)"
   ]
  },
  {
   "cell_type": "code",
   "execution_count": 3,
   "metadata": {},
   "outputs": [
    {
     "name": "stdout",
     "output_type": "stream",
     "text": [
      "Black\n",
      "Red\n",
      "White\n"
     ]
    }
   ],
   "source": [
    "# Reading a set\n",
    "Colorsset = {\"Red\", \"Black\", \"White\"}\n",
    "\n",
    "for x in Colorsset:\n",
    "  print(x)"
   ]
  },
  {
   "cell_type": "code",
   "execution_count": 4,
   "metadata": {},
   "outputs": [
    {
     "name": "stdout",
     "output_type": "stream",
     "text": [
      "True\n"
     ]
    }
   ],
   "source": [
    "# Find the value in set\n",
    "Colorsset = {\"Red\", \"Black\", \"White\"}\n",
    "\n",
    "print(\"Black\" in Colorsset)"
   ]
  },
  {
   "cell_type": "code",
   "execution_count": null,
   "metadata": {},
   "outputs": [],
   "source": [
    "# Once a set is created, you cannot change its items, but you can add new items.\n",
    "# To add one item to a set use the add() method.\n",
    "# To add more than one item to a set use the update() method."
   ]
  },
  {
   "cell_type": "code",
   "execution_count": 5,
   "metadata": {},
   "outputs": [
    {
     "name": "stdout",
     "output_type": "stream",
     "text": [
      "{'Black', 'Pink', 'Red', 'White'}\n"
     ]
    }
   ],
   "source": [
    "# Add item in set \n",
    "ColorSet = {\"Red\", \"Black\", \"White\"}\n",
    "ColorSet.add(\"Pink\")\n",
    "print (ColorSet)"
   ]
  },
  {
   "cell_type": "code",
   "execution_count": 7,
   "metadata": {},
   "outputs": [
    {
     "name": "stdout",
     "output_type": "stream",
     "text": [
      "{'White', 'Black', 'Red', 'Orange', 'Purple'}\n"
     ]
    }
   ],
   "source": [
    "# Add multiple item in set \n",
    "ColorSet = {\"Red\", \"Black\", \"White\"}\n",
    "ColorSet.update([\"Purple\", \"Orange\"])\n",
    "print (ColorSet)"
   ]
  },
  {
   "cell_type": "code",
   "execution_count": 8,
   "metadata": {},
   "outputs": [
    {
     "name": "stdout",
     "output_type": "stream",
     "text": [
      "4\n"
     ]
    }
   ],
   "source": [
    "# Get the number of items in a set:\n",
    "ColorSet = {\"Red\", \"Black\", \"White\",\"Purple\"}\n",
    "print (len(ColorSet))"
   ]
  },
  {
   "cell_type": "code",
   "execution_count": 10,
   "metadata": {},
   "outputs": [
    {
     "name": "stdout",
     "output_type": "stream",
     "text": [
      "{'Red', 'White'}\n"
     ]
    }
   ],
   "source": [
    "# To remove an item in a set, use the remove(), or the discard() method.\n",
    "\n",
    "ColorSet = {\"Red\", \"Black\", \"White\",\"Purple\"}\n",
    "ColorSet.remove(\"Black\")\n",
    "ColorSet.discard(\"Purple\")\n",
    "print(ColorSet)"
   ]
  },
  {
   "cell_type": "code",
   "execution_count": 14,
   "metadata": {},
   "outputs": [
    {
     "name": "stdout",
     "output_type": "stream",
     "text": [
      "{'Black', 'Purple', 'Red', 'White'}\n"
     ]
    }
   ],
   "source": [
    "# If the item to remove does not exist, discard() will NOT raise an error.\n",
    "\n",
    "ColorSet = {\"Red\", \"Black\", \"White\",\"Purple\"}\n",
    "ColorSet.discard(\"yellow\")\n",
    "print(ColorSet)"
   ]
  },
  {
   "cell_type": "code",
   "execution_count": null,
   "metadata": {},
   "outputs": [],
   "source": [
    "# You can also use the pop(), method to remove an item, but this method will remove the last item. \n",
    "# But the sets are unordered, so you will not know what item that gets removed."
   ]
  },
  {
   "cell_type": "code",
   "execution_count": 15,
   "metadata": {},
   "outputs": [
    {
     "name": "stdout",
     "output_type": "stream",
     "text": [
      "Black\n",
      "{'Purple', 'Red', 'White'}\n"
     ]
    }
   ],
   "source": [
    "ColorSet = {\"Red\", \"Black\", \"White\",\"Purple\"}\n",
    "\n",
    "x = ColorSet.pop()\n",
    "\n",
    "print(x)\n",
    "\n",
    "print(ColorSet)"
   ]
  },
  {
   "cell_type": "code",
   "execution_count": 16,
   "metadata": {},
   "outputs": [
    {
     "name": "stdout",
     "output_type": "stream",
     "text": [
      "set()\n"
     ]
    }
   ],
   "source": [
    "# The clear() method empties the set:\n",
    "ColorSet = {\"Red\", \"Black\", \"White\",\"Purple\"}\n",
    "\n",
    "ColorSet.clear()\n",
    "\n",
    "print(ColorSet)"
   ]
  },
  {
   "cell_type": "code",
   "execution_count": 20,
   "metadata": {},
   "outputs": [
    {
     "ename": "NameError",
     "evalue": "name 'ColorSet' is not defined",
     "output_type": "error",
     "traceback": [
      "\u001b[1;31m---------------------------------------------------------------------------\u001b[0m",
      "\u001b[1;31mNameError\u001b[0m                                 Traceback (most recent call last)",
      "\u001b[1;32m<ipython-input-20-22237b7c6b3a>\u001b[0m in \u001b[0;36m<module>\u001b[1;34m\u001b[0m\n\u001b[0;32m      6\u001b[0m \u001b[1;32mdel\u001b[0m \u001b[0mColorSet\u001b[0m\u001b[1;33m\u001b[0m\u001b[1;33m\u001b[0m\u001b[0m\n\u001b[0;32m      7\u001b[0m \u001b[1;33m\u001b[0m\u001b[0m\n\u001b[1;32m----> 8\u001b[1;33m \u001b[0mprint\u001b[0m\u001b[1;33m(\u001b[0m\u001b[0mColorSet\u001b[0m\u001b[1;33m)\u001b[0m\u001b[1;33m\u001b[0m\u001b[1;33m\u001b[0m\u001b[0m\n\u001b[0m",
      "\u001b[1;31mNameError\u001b[0m: name 'ColorSet' is not defined"
     ]
    }
   ],
   "source": [
    "# The del keyword will delete the set completely:\n",
    "# This will raise an error because the set no longer exists\n",
    "\n",
    "ColorSet = {\"Red\", \"Black\", \"White\",\"Purple\"}\n",
    "\n",
    "del ColorSet\n",
    "\n",
    "print(ColorSet)"
   ]
  },
  {
   "cell_type": "code",
   "execution_count": null,
   "metadata": {},
   "outputs": [],
   "source": [
    "# There are several ways to join two or more sets in Python.\n",
    "# We can use the union() method that returns a new set containing all items from both sets,\n",
    "# or the update() method that inserts all the items from one set into another:\n",
    "# Both union() and update() will exclude any duplicate items."
   ]
  },
  {
   "cell_type": "code",
   "execution_count": 21,
   "metadata": {},
   "outputs": [
    {
     "name": "stdout",
     "output_type": "stream",
     "text": [
      "{1, 'a', 'b', 2, 3, 'c'}\n"
     ]
    }
   ],
   "source": [
    "set1 = {\"a\", \"b\" , \"c\"}\n",
    "set2 = {1, 2, 3}\n",
    "\n",
    "set3 = set1.union(set2)\n",
    "print(set3)"
   ]
  },
  {
   "cell_type": "code",
   "execution_count": 22,
   "metadata": {},
   "outputs": [
    {
     "name": "stdout",
     "output_type": "stream",
     "text": [
      "{1, 'a', 'b', 2, 3, 'c'}\n"
     ]
    }
   ],
   "source": [
    "set1 = {\"a\", \"b\" , \"c\"}\n",
    "set2 = {1, 2, 3}\n",
    "\n",
    "set1.update(set2)\n",
    "print(set1)"
   ]
  },
  {
   "cell_type": "code",
   "execution_count": 23,
   "metadata": {},
   "outputs": [
    {
     "name": "stdout",
     "output_type": "stream",
     "text": [
      "{'banana', 'apple', 'cherry'}\n"
     ]
    }
   ],
   "source": [
    "#The set() Constructor\n",
    "\n",
    "thisset = set((\"apple\", \"banana\", \"cherry\")) # note the double round-brackets\n",
    "print(thisset)"
   ]
  },
  {
   "cell_type": "code",
   "execution_count": 4,
   "metadata": {},
   "outputs": [
    {
     "name": "stdout",
     "output_type": "stream",
     "text": [
      "{'a', 'c', 'b'}\n"
     ]
    }
   ],
   "source": [
    "# Copy Method\n",
    "\n",
    "set1 = {\"a\", \"b\" , \"c\"}\n",
    "\n",
    "x = set1.copy()\n",
    "\n",
    "print(x)"
   ]
  },
  {
   "cell_type": "code",
   "execution_count": null,
   "metadata": {},
   "outputs": [],
   "source": [
    "# The difference() method returns a set that contains the difference between two sets.\n",
    "# The returned set contains items that exist only in the first set, and not in both sets."
   ]
  },
  {
   "cell_type": "code",
   "execution_count": 5,
   "metadata": {},
   "outputs": [
    {
     "name": "stdout",
     "output_type": "stream",
     "text": [
      "{'cherry', 'banana'}\n"
     ]
    }
   ],
   "source": [
    "x = {\"apple\", \"banana\", \"cherry\"}\n",
    "y = {\"google\", \"microsoft\", \"apple\"}\n",
    "\n",
    "z = x.difference(y)\n",
    "\n",
    "print(z)"
   ]
  },
  {
   "cell_type": "code",
   "execution_count": null,
   "metadata": {},
   "outputs": [],
   "source": [
    "# The difference_update() method removes the items that exist in both sets.\n",
    "#The difference_update() method is different from the difference() method, because the difference() method returns a new set,\n",
    "#without the unwanted items, and the difference_update() method removes the unwanted items from the original set.\n"
   ]
  },
  {
   "cell_type": "code",
   "execution_count": 8,
   "metadata": {},
   "outputs": [
    {
     "name": "stdout",
     "output_type": "stream",
     "text": [
      "{'cherry', 'banana'}\n"
     ]
    }
   ],
   "source": [
    "x = {\"apple\", \"banana\", \"cherry\"}\n",
    "y = {\"google\", \"microsoft\", \"apple\"}\n",
    "\n",
    "x.difference_update(y)\n",
    "\n",
    "print(x)"
   ]
  },
  {
   "cell_type": "code",
   "execution_count": null,
   "metadata": {},
   "outputs": [],
   "source": [
    "# The intersection() method returns a set that contains the similarity between two or more sets.\n",
    "# The returned set contains only items that exist in both sets, or in all sets if the comparison is \n",
    "# done with more than two sets.\n"
   ]
  },
  {
   "cell_type": "code",
   "execution_count": 9,
   "metadata": {},
   "outputs": [
    {
     "name": "stdout",
     "output_type": "stream",
     "text": [
      "{'apple'}\n"
     ]
    }
   ],
   "source": [
    "x = {\"apple\", \"banana\", \"cherry\"}\n",
    "y = {\"google\", \"microsoft\", \"apple\"}\n",
    "\n",
    "z = x.intersection(y)\n",
    "\n",
    "print(z)"
   ]
  },
  {
   "cell_type": "code",
   "execution_count": null,
   "metadata": {},
   "outputs": [],
   "source": [
    "# The intersection_update() method removes the items that is not present in both sets \n",
    "# (or in all sets if the comparison is done between more than two sets)."
   ]
  },
  {
   "cell_type": "code",
   "execution_count": 10,
   "metadata": {},
   "outputs": [
    {
     "name": "stdout",
     "output_type": "stream",
     "text": [
      "{'apple'}\n"
     ]
    }
   ],
   "source": [
    "x = {\"apple\", \"banana\", \"cherry\"}\n",
    "y = {\"google\", \"microsoft\", \"apple\"}\n",
    "\n",
    "x.intersection_update(y)\n",
    "\n",
    "print(x)"
   ]
  },
  {
   "cell_type": "code",
   "execution_count": null,
   "metadata": {},
   "outputs": [],
   "source": [
    "# The isdisjoint() method returns True if none of the items are present in both sets, otherwise it returns False."
   ]
  },
  {
   "cell_type": "code",
   "execution_count": 11,
   "metadata": {},
   "outputs": [
    {
     "name": "stdout",
     "output_type": "stream",
     "text": [
      "True\n"
     ]
    }
   ],
   "source": [
    "x = {\"apple\", \"banana\", \"cherry\"}\n",
    "y = {\"google\", \"microsoft\", \"facebook\"}\n",
    "\n",
    "z = x.isdisjoint(y)\n",
    "\n",
    "print(z)"
   ]
  },
  {
   "cell_type": "code",
   "execution_count": null,
   "metadata": {},
   "outputs": [],
   "source": [
    "# The issubset() method returns True if all items in the set exists in the specified set, otherwise it retuns False."
   ]
  },
  {
   "cell_type": "code",
   "execution_count": 12,
   "metadata": {},
   "outputs": [
    {
     "name": "stdout",
     "output_type": "stream",
     "text": [
      "True\n"
     ]
    }
   ],
   "source": [
    "x = {\"a\", \"b\", \"c\"}\n",
    "y = {\"f\", \"e\", \"d\", \"c\", \"b\", \"a\"}\n",
    "\n",
    "z = x.issubset(y)\n",
    "\n",
    "print(z)"
   ]
  },
  {
   "cell_type": "code",
   "execution_count": null,
   "metadata": {},
   "outputs": [],
   "source": [
    "# The issuperset() method returns True if all items in the specified set exists in the original set, otherwise it retuns False."
   ]
  },
  {
   "cell_type": "code",
   "execution_count": 13,
   "metadata": {},
   "outputs": [
    {
     "name": "stdout",
     "output_type": "stream",
     "text": [
      "True\n"
     ]
    }
   ],
   "source": [
    "x = {\"f\", \"e\", \"d\", \"c\", \"b\", \"a\"}\n",
    "y = {\"a\", \"b\", \"c\"}\n",
    "\n",
    "z = x.issuperset(y)\n",
    "\n",
    "print(z)"
   ]
  },
  {
   "cell_type": "code",
   "execution_count": null,
   "metadata": {},
   "outputs": [],
   "source": [
    "# The symmetric_difference() method returns a set that contains all items from both set, \n",
    "# but not the items that are present in both sets."
   ]
  },
  {
   "cell_type": "code",
   "execution_count": 14,
   "metadata": {},
   "outputs": [
    {
     "name": "stdout",
     "output_type": "stream",
     "text": [
      "{'cherry', 'microsoft', 'google', 'banana'}\n"
     ]
    }
   ],
   "source": [
    "x = {\"apple\", \"banana\", \"cherry\"}\n",
    "y = {\"google\", \"microsoft\", \"apple\"}\n",
    "\n",
    "z = x.symmetric_difference(y)\n",
    "\n",
    "print(z)"
   ]
  },
  {
   "cell_type": "code",
   "execution_count": null,
   "metadata": {},
   "outputs": [],
   "source": [
    "# The symmetric_difference_update() method updates the original set by removing items that are present in both sets,\n",
    "# and inserting the other items."
   ]
  },
  {
   "cell_type": "code",
   "execution_count": 15,
   "metadata": {},
   "outputs": [
    {
     "name": "stdout",
     "output_type": "stream",
     "text": [
      "{'cherry', 'microsoft', 'google', 'banana'}\n"
     ]
    }
   ],
   "source": [
    "x = {\"apple\", \"banana\", \"cherry\"}\n",
    "y = {\"google\", \"microsoft\", \"apple\"}\n",
    "\n",
    "x.symmetric_difference_update(y)\n",
    "\n",
    "print(x)"
   ]
  }
 ],
 "metadata": {
  "kernelspec": {
   "display_name": "Python 3",
   "language": "python",
   "name": "python3"
  },
  "language_info": {
   "codemirror_mode": {
    "name": "ipython",
    "version": 3
   },
   "file_extension": ".py",
   "mimetype": "text/x-python",
   "name": "python",
   "nbconvert_exporter": "python",
   "pygments_lexer": "ipython3",
   "version": "3.8.3"
  }
 },
 "nbformat": 4,
 "nbformat_minor": 4
}
