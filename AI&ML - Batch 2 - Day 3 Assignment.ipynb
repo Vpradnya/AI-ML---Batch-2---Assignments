{
 "cells": [
  {
   "cell_type": "markdown",
   "metadata": {},
   "source": [
    "# Day 3 Assignment"
   ]
  },
  {
   "cell_type": "markdown",
   "metadata": {},
   "source": [
    "# 1. Write a program to subtract two complex numbers in Python"
   ]
  },
  {
   "cell_type": "code",
   "execution_count": 5,
   "metadata": {},
   "outputs": [
    {
     "name": "stdout",
     "output_type": "stream",
     "text": [
      "Subtraction of complex number (4+8j) and (2+14j)  =  (2-6j)\n"
     ]
    }
   ],
   "source": [
    "complexno1 = 4 + 8j\n",
    "complexno2 = 2 + 14j\n",
    "print('Subtraction of complex number',complexno1 ,'and',complexno2,' = ', complexno1 - complexno2)"
   ]
  },
  {
   "cell_type": "markdown",
   "metadata": {},
   "source": [
    "# 2. Write a program to find the fourth root of a number"
   ]
  },
  {
   "cell_type": "code",
   "execution_count": 6,
   "metadata": {},
   "outputs": [
    {
     "name": "stdout",
     "output_type": "stream",
     "text": [
      "The fourth root of  16  is  2.0\n"
     ]
    }
   ],
   "source": [
    "a = 16\n",
    "print(\"The fourth root of \" ,a,\" is \", a**(1/4))"
   ]
  },
  {
   "cell_type": "markdown",
   "metadata": {},
   "source": [
    "# 3. Write a program to swap two numbers in Python with the help of a temporary variable.\n"
   ]
  },
  {
   "cell_type": "code",
   "execution_count": 9,
   "metadata": {},
   "outputs": [
    {
     "name": "stdout",
     "output_type": "stream",
     "text": [
      "Number 1 =  12\n",
      "Number 2 =  25\n",
      "Result after swapping the Numbers : \n",
      "Number 1 = 25 \n",
      "Number 2 = 12\n"
     ]
    }
   ],
   "source": [
    "No1 = 12\n",
    "No2 = 25\n",
    "print(\"Number 1 = \", No1)\n",
    "print(\"Number 2 = \", No2)\n",
    "temp = No1\n",
    "No1=No2\n",
    "No2=temp\n",
    "print (\"Result after swapping the Numbers :\" ,\"\\nNumber 1 =\", No1,\"\\nNumber 2 =\", No2)"
   ]
  },
  {
   "cell_type": "markdown",
   "metadata": {},
   "source": [
    "# 4. Write a program to swap two numbers in Python without using a temporary variable"
   ]
  },
  {
   "cell_type": "code",
   "execution_count": 10,
   "metadata": {},
   "outputs": [
    {
     "name": "stdout",
     "output_type": "stream",
     "text": [
      "Number 1 =  12\n",
      "Number 2 =  25\n",
      "Result after swapping the Numbers : \n",
      "Number 1 = 25 \n",
      "Number 2 = 12\n"
     ]
    }
   ],
   "source": [
    "No1 = 12\n",
    "No2 = 25\n",
    "print(\"Number 1 = \", No1)\n",
    "print(\"Number 2 = \", No2)\n",
    "No1=No1+No2\n",
    "No2= No1 - No2\n",
    "No1=No1 - No2\n",
    "print (\"Result after swapping the Numbers :\" ,\"\\nNumber 1 =\", No1,\"\\nNumber 2 =\", No2)"
   ]
  },
  {
   "cell_type": "markdown",
   "metadata": {},
   "source": [
    "# 5. Write a program to convert Fahrenheit to kelvin and celsius both."
   ]
  },
  {
   "cell_type": "code",
   "execution_count": 13,
   "metadata": {},
   "outputs": [
    {
     "name": "stdout",
     "output_type": "stream",
     "text": [
      "Fahrenheit to Kelvin ( K ) = 311.278\n",
      "99.00 Fahrenheit is: 37.22 Celsius\n"
     ]
    }
   ],
   "source": [
    "# Fahrenheit to Kelvin\n",
    "\n",
    "def Fahrenheit_to_Kelvin(F): \n",
    "    return 273.5 + ((F - 32.0) * (5.0/9.0))\n",
    "F = 100\n",
    "print(\"Fahrenheit to Kelvin ( K ) = {:.3f}\".format(Fahrenheit_to_Kelvin( F ))) \n",
    "\n",
    "# Fahrenheit to Celsius\n",
    "\n",
    "fahrenheit = float(99)\n",
    "celsius = (fahrenheit - 32) * 5/9\n",
    "print('%.2f Fahrenheit is: %0.2f Celsius' %(fahrenheit, celsius))"
   ]
  },
  {
   "cell_type": "markdown",
   "metadata": {},
   "source": [
    "# 6. Write a program to demonstrate all the available data types in Python."
   ]
  },
  {
   "cell_type": "code",
   "execution_count": 17,
   "metadata": {},
   "outputs": [
    {
     "name": "stdout",
     "output_type": "stream",
     "text": [
      "Data Type of 10 is : <class 'int'>\n",
      "Data Type of 24.5 is : <class 'float'>\n",
      "Data Type of (2+4j) is : <class 'complex'>\n"
     ]
    }
   ],
   "source": [
    "# Numeric Data Types : int, float , complex\n",
    "x = 10\n",
    "print(\"Data Type of\",x,\"is :\" ,type(x))\n",
    "\n",
    "y = 24.5\n",
    "print(\"Data Type of\",y,\"is :\" ,type(y))\n",
    "\n",
    "z = 2+4j\n",
    "print(\"Data Type of\",z,\"is :\" ,type(z))"
   ]
  },
  {
   "cell_type": "code",
   "execution_count": 20,
   "metadata": {},
   "outputs": [
    {
     "name": "stdout",
     "output_type": "stream",
     "text": [
      "Data Type of (' Hello Lets Upgrade Team ') is : <class 'str'>\n"
     ]
    }
   ],
   "source": [
    "# Text Data Type : string\n",
    "textData = \"Hello Lets Upgrade Team\"\n",
    "print(\"Data Type of\",\"('\", textData,\"')\",\"is :\" ,type(textData))"
   ]
  },
  {
   "cell_type": "code",
   "execution_count": 24,
   "metadata": {},
   "outputs": [
    {
     "name": "stdout",
     "output_type": "stream",
     "text": [
      "Data Type of (colors = [Orange, White, Green]) is : <class 'list'>\n",
      "Data Type of (fruits = (apple, banana, cherry)) is : <class 'tuple'>\n",
      "Data Type of (num = range(8)) is : <class 'range'>\n"
     ]
    }
   ],
   "source": [
    "# Sequence Types: list, tuple, range\n",
    "colors = [\"Orange\", \"White\", \"Green\"]\n",
    "print(\"Data Type of\",\"(colors = [Orange, White, Green])\",\"is :\" ,type(colors))\n",
    "\n",
    "fruits = (\"apple\", \"banana\", \"cherry\")\n",
    "print(\"Data Type of\",\"(fruits = (apple, banana, cherry))\",\"is :\" ,type(fruits))\n",
    "\n",
    "num = range(8)\n",
    "print(\"Data Type of\",\"(num = range(8))\",\"is :\" ,type(num))"
   ]
  },
  {
   "cell_type": "code",
   "execution_count": 25,
   "metadata": {},
   "outputs": [
    {
     "name": "stdout",
     "output_type": "stream",
     "text": [
      "Data Type of (customerInfo ={name : ABC, age : 36, PhoneNo :1234567891}) is : <class 'dict'>\n"
     ]
    }
   ],
   "source": [
    "# Mapping Type: dict\n",
    "\n",
    "customerInfo ={\"name\" : \"ABC\", \"age\" : 36, \"PhoneNo\" :1234567891}\n",
    "print(\"Data Type of\",\"(customerInfo ={name : ABC, age : 36, PhoneNo :1234567891})\",\"is :\" ,type(customerInfo))"
   ]
  },
  {
   "cell_type": "code",
   "execution_count": 26,
   "metadata": {},
   "outputs": [
    {
     "name": "stdout",
     "output_type": "stream",
     "text": [
      "Data Type of (seasons = {Summer, Monsoon, Winter}) is : <class 'set'>\n",
      "Data Type of (fruitList = frozenset({apple, banana, cherry})) is : <class 'frozenset'>\n"
     ]
    }
   ],
   "source": [
    "# Set Types: set, frozenset\n",
    "\n",
    "seasons = {\"Summer\", \"Monsoon\", \"Winter\"}\n",
    "print(\"Data Type of\",\"(seasons = {Summer, Monsoon, Winter})\",\"is :\" ,type(seasons))\n",
    "\n",
    "fruitList = frozenset({\"apple\", \"banana\", \"cherry\"})\n",
    "print(\"Data Type of\",\"(fruitList = frozenset({apple, banana, cherry}))\",\"is :\" ,type(fruitList))"
   ]
  },
  {
   "cell_type": "code",
   "execution_count": 27,
   "metadata": {},
   "outputs": [
    {
     "name": "stdout",
     "output_type": "stream",
     "text": [
      "Data Type of (isPresent = True) is : <class 'bool'>\n"
     ]
    }
   ],
   "source": [
    "# Boolean Type: bool\n",
    "\n",
    "isPresent = True\n",
    "print(\"Data Type of\",\"(isPresent = True)\",\"is :\" ,type(isPresent))"
   ]
  },
  {
   "cell_type": "code",
   "execution_count": 28,
   "metadata": {},
   "outputs": [
    {
     "name": "stdout",
     "output_type": "stream",
     "text": [
      "Data Type is : <class 'bytes'>\n"
     ]
    }
   ],
   "source": [
    "# Binary Types:\tbytes, bytearray, memoryview\n",
    "\n",
    "val = b\"Hello\"\n",
    "print(\"Data Type is :\" ,type(val))\n"
   ]
  },
  {
   "cell_type": "code",
   "execution_count": 29,
   "metadata": {},
   "outputs": [
    {
     "name": "stdout",
     "output_type": "stream",
     "text": [
      "Data Type is : <class 'bytearray'>\n"
     ]
    }
   ],
   "source": [
    "value = bytearray(5)\n",
    "print(\"Data Type is :\" ,type(value))"
   ]
  },
  {
   "cell_type": "code",
   "execution_count": 3,
   "metadata": {},
   "outputs": [
    {
     "name": "stdout",
     "output_type": "stream",
     "text": [
      "Data Type is : <class 'memoryview'>\n"
     ]
    }
   ],
   "source": [
    "xy = memoryview(bytes(5))\n",
    "print(\"Data Type is :\" ,type(xy))"
   ]
  }
 ],
 "metadata": {
  "kernelspec": {
   "display_name": "Python 3",
   "language": "python",
   "name": "python3"
  },
  "language_info": {
   "codemirror_mode": {
    "name": "ipython",
    "version": 3
   },
   "file_extension": ".py",
   "mimetype": "text/x-python",
   "name": "python",
   "nbconvert_exporter": "python",
   "pygments_lexer": "ipython3",
   "version": "3.8.3"
  }
 },
 "nbformat": 4,
 "nbformat_minor": 4
}
