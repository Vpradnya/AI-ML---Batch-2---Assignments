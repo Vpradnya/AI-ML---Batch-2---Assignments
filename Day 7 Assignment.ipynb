{
 "cells": [
  {
   "cell_type": "markdown",
   "metadata": {},
   "source": [
    "# Day 7 Assignment"
   ]
  },
  {
   "cell_type": "markdown",
   "metadata": {},
   "source": [
    "# Program 1 -  To copy the contents of one file to another using a for loop"
   ]
  },
  {
   "cell_type": "code",
   "execution_count": 1,
   "metadata": {},
   "outputs": [],
   "source": [
    "f = open(\"FileHandling.txt\",\"w\")\n",
    "f.write(\"- FileHandling in Python\")\n",
    "f.write(\"\\n Files are used to permanently store data in a non-volatile memory (e.g. hard disk)\")\n",
    "f.write(\"\\n Python provides several functions for creating, reading, updating, and deleting files\")\n",
    "f.close()"
   ]
  },
  {
   "cell_type": "code",
   "execution_count": 2,
   "metadata": {},
   "outputs": [
    {
     "name": "stdout",
     "output_type": "stream",
     "text": [
      "- FileHandling in Python\n",
      "\n",
      " Files are used to permanently store data in a non-volatile memory (e.g. hard disk)\n",
      "\n",
      " Python provides several functions for creating, reading, updating, and deleting files\n"
     ]
    }
   ],
   "source": [
    "f= open(\"FileHandling.txt\",\"r\")\n",
    "for line in f :\n",
    "    print(line)"
   ]
  },
  {
   "cell_type": "markdown",
   "metadata": {},
   "source": [
    "# Program 2 - To find maximum and minimum values in the dictionary"
   ]
  },
  {
   "cell_type": "code",
   "execution_count": 19,
   "metadata": {},
   "outputs": [
    {
     "name": "stdout",
     "output_type": "stream",
     "text": [
      "Min Value is : 2\n",
      "Max Value is : 6\n"
     ]
    }
   ],
   "source": [
    "DictA = { \"Val1\": \"2\", \"Val2\": \"4\", \"Val3\": 6, \"Val4\": 3, \"Val5\": 5}\n",
    "minVal = int(list(DictA.values())[0])\n",
    "MaxValue = int(list(DictA.values())[0])\n",
    "for i in DictA.values():\n",
    "    if(int(i)>MaxValue):\n",
    "        MaxValue =int(i)\n",
    "    elif(int(i)<minVal):\n",
    "        minVal = int(i)\n",
    "print(\"Min Value is :\",minVal)  \n",
    "print(\"Max Value is :\",MaxValue)  \n",
    "    "
   ]
  }
 ],
 "metadata": {
  "kernelspec": {
   "display_name": "Python 3",
   "language": "python",
   "name": "python3"
  },
  "language_info": {
   "codemirror_mode": {
    "name": "ipython",
    "version": 3
   },
   "file_extension": ".py",
   "mimetype": "text/x-python",
   "name": "python",
   "nbconvert_exporter": "python",
   "pygments_lexer": "ipython3",
   "version": "3.8.3"
  }
 },
 "nbformat": 4,
 "nbformat_minor": 4
}
